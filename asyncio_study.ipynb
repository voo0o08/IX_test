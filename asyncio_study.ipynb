{
 "cells": [
  {
   "cell_type": "code",
   "execution_count": null,
   "metadata": {},
   "outputs": [],
   "source": []
  },
  {
   "cell_type": "code",
   "execution_count": 4,
   "metadata": {},
   "outputs": [],
   "source": [
    "async def do_sync():\n",
    "    return 'sync'"
   ]
  },
  {
   "cell_type": "code",
   "execution_count": 5,
   "metadata": {},
   "outputs": [
    {
     "data": {
      "text/plain": [
       "<coroutine object do_sync at 0x000002861BA6F540>"
      ]
     },
     "execution_count": 5,
     "metadata": {},
     "output_type": "execute_result"
    }
   ],
   "source": [
    "do_sync()"
   ]
  },
  {
   "cell_type": "code",
   "execution_count": 6,
   "metadata": {},
   "outputs": [
    {
     "data": {
      "text/plain": [
       "'sync'"
      ]
     },
     "execution_count": 6,
     "metadata": {},
     "output_type": "execute_result"
    }
   ],
   "source": [
    "await do_sync()"
   ]
  },
  {
   "cell_type": "markdown",
   "metadata": {},
   "source": [
    "# 실습1\n",
    "- 애플리케이션 사용자 데이터를 직접 보관하지 않고 외부 API를 호출해서 가져옵니다.\n",
    "- 외부 API는 1명의 사용자 데이터를 조회하는데 1초가 걸리고, 한 번에 여러 사용자의 데이터를 조회할 수 없습니다. \n",
    "- 각각 3명, 2명, 1명의 사용자 정보를 조회하는 요청 3개가 동시에 애플리케이션에 들어옵니다. "
   ]
  },
  {
   "cell_type": "code",
   "execution_count": 8,
   "metadata": {},
   "outputs": [
    {
     "name": "stdout",
     "output_type": "stream",
     "text": [
      "3명 중 1번 째 사용자 조회 중,,,\n",
      "3명 중 2번 째 사용자 조회 중,,,\n",
      "3명 중 3번 째 사용자 조회 중,,,\n",
      "> 총 3명 사용자 동기 조회 완료!\n",
      "2명 중 1번 째 사용자 조회 중,,,\n",
      "2명 중 2번 째 사용자 조회 중,,,\n",
      "> 총 2명 사용자 동기 조회 완료!\n",
      "1명 중 1번 째 사용자 조회 중,,,\n",
      "> 총 1명 사용자 동기 조회 완료!\n",
      ">>> 동기 처리 총 소요 시간 6.070409059524536\n"
     ]
    }
   ],
   "source": [
    "import time\n",
    "\n",
    "# 동기 프로그래밍\n",
    "def find_users_sync(n):\n",
    "    for i in range(1, n+1):\n",
    "        print(f'{n}명 중 {i}번 째 사용자 조회 중,,,')\n",
    "        time.sleep(1)\n",
    "    print(f'> 총 {n}명 사용자 동기 조회 완료!') \n",
    "\n",
    "def process_sync():\n",
    "    start = time.time()\n",
    "    find_users_sync(3)\n",
    "    find_users_sync(2)\n",
    "    find_users_sync(1)\n",
    "    end = time.time()\n",
    "    print(f'>>> 동기 처리 총 소요 시간 {end - start}')\n",
    "\n",
    "process_sync()"
   ]
  },
  {
   "cell_type": "code",
   "execution_count": 19,
   "metadata": {},
   "outputs": [
    {
     "data": {
      "text/plain": [
       "<coroutine object process_async at 0x000002861BE13AC0>"
      ]
     },
     "execution_count": 19,
     "metadata": {},
     "output_type": "execute_result"
    }
   ],
   "source": [
    "import asyncio\n",
    "# 비동기 프로그래밍\n",
    "async def find_users_async(n):\n",
    "    for i in range(1, n+1):\n",
    "        print(f'{n}명 중 {i}번 째 사용자 조회 중,,,')\n",
    "        await asyncio.sleep(1) # time.sleep은 CPU가 진짜 놀고, async.sleep은 놀지 않고 다른 처리를 함\n",
    "    print(f'> 총 {n}명 사용자 동기 조회 완료!') \n",
    "\n",
    "async def process_async():\n",
    "    start = time.time()\n",
    "    await asyncio.gather(\n",
    "        find_users_async(3),\n",
    "        find_users_async(2),\n",
    "        find_users_async(1),\n",
    "    )\n",
    "    end = time.time()\n",
    "    print(f'>>> 비동기 처리 총 소요 시간 {end - start}')\n",
    "\n",
    "process_async()"
   ]
  },
  {
   "cell_type": "code",
   "execution_count": 20,
   "metadata": {},
   "outputs": [
    {
     "name": "stdout",
     "output_type": "stream",
     "text": [
      "3명 중 1번 째 사용자 조회 중,,,\n",
      "2명 중 1번 째 사용자 조회 중,,,\n",
      "1명 중 1번 째 사용자 조회 중,,,\n",
      "3명 중 2번 째 사용자 조회 중,,,\n",
      "2명 중 2번 째 사용자 조회 중,,,\n",
      "> 총 1명 사용자 동기 조회 완료!\n",
      "3명 중 3번 째 사용자 조회 중,,,\n",
      "> 총 2명 사용자 동기 조회 완료!\n",
      "> 총 3명 사용자 동기 조회 완료!\n",
      ">>> 비동기 처리 총 소요 시간 3.032358169555664\n"
     ]
    }
   ],
   "source": [
    "await process_async()"
   ]
  },
  {
   "cell_type": "code",
   "execution_count": null,
   "metadata": {},
   "outputs": [],
   "source": []
  }
 ],
 "metadata": {
  "kernelspec": {
   "display_name": "env_DX_TEST",
   "language": "python",
   "name": "python3"
  },
  "language_info": {
   "codemirror_mode": {
    "name": "ipython",
    "version": 3
   },
   "file_extension": ".py",
   "mimetype": "text/x-python",
   "name": "python",
   "nbconvert_exporter": "python",
   "pygments_lexer": "ipython3",
   "version": "3.8.19"
  }
 },
 "nbformat": 4,
 "nbformat_minor": 2
}
